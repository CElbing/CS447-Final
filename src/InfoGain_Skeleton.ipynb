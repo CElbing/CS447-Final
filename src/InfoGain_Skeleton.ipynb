{
 "cells": [
  {
   "cell_type": "code",
   "execution_count": null,
   "id": "f581333c",
   "metadata": {},
   "outputs": [],
   "source": [
    "# Final Project: Credit Card Fraud Models\n",
    "# Group Members: Cole, Jared, Mansuur"
   ]
  },
  {
   "cell_type": "code",
   "execution_count": null,
   "id": "96660132",
   "metadata": {},
   "outputs": [],
   "source": [
    "import math\n",
    "from sklearn import model_selection\n",
    "from sklearn import tree\n",
    "from sklearn.tree import DecisionTreeClassifier\n",
    "from sklearn import metrics\n",
    "from sklearn.metrics import RocCurveDisplay\n",
    "from sklearn.ensemble import RandomForestClassifier\n",
    "\n",
    "import random"
   ]
  },
  {
   "cell_type": "code",
   "execution_count": null,
   "id": "9de68dc0",
   "metadata": {},
   "outputs": [],
   "source": [
    "# Create a function to open input file\n",
    "# Return list of instances\n",
    "def get_inst_from_file(filename):\n",
    "    all_instances = []\n",
    "    fin = open(filename,\"r\")\n",
    "    fin.readline()\n",
    "\n",
    "    for line in fin:\n",
    "        all_instances.append(line.strip().split(\",\"))\n",
    "    \n",
    "    fin.close()\n",
    "    \n",
    "    #Check for nulls, returned nothing\n",
    "    for instance in all_instances:\n",
    "        for i in range(7):\n",
    "            if instance[i] is None:\n",
    "                print(\"Instance with none\")\n",
    "                \n",
    "    return all_instances\n"
   ]
  },
  {
   "cell_type": "code",
   "execution_count": null,
   "id": "0007aafe",
   "metadata": {},
   "outputs": [],
   "source": [
    "# Print first 10 instances\n",
    "cf_instances = get_inst_from_file(\"card_transdata.csv\")\n",
    "print(cf_instances[:16])"
   ]
  },
  {
   "cell_type": "code",
   "execution_count": null,
   "id": "c93dc037",
   "metadata": {},
   "outputs": [],
   "source": [
    "# Printing out the number of fraud and not fraud instances respectively\n",
    "not_fraud_instances = []\n",
    "fraud_instances = []\n",
    "for instance in cf_instances:\n",
    "    if (instance[7] == '1.0'):\n",
    "        curInstance = instance\n",
    "        curInstance[7] = 1\n",
    "        fraud_instances.append(curInstance)\n",
    "    else:\n",
    "        curInstance = instance\n",
    "        curInstance[7] = 0\n",
    "        not_fraud_instances.append(curInstance)\n",
    "print(fraud_instances[:10])\n",
    "print('')\n",
    "print(not_fraud_instances[:10])\n",
    "\n",
    "#Creates a smaller sample of non-fradulant purchases, randomly selected w/o overlapo\n",
    "not_fraud_sample = random.sample(not_fraud_instances, len(fraud_instances))\n",
    "\n",
    "#Joining the smaller fraud sample with the fraud_instances\n",
    "allSample = fraud_instances + not_fraud_sample\n",
    "X = []\n",
    "y = []\n",
    "\n",
    "\n",
    "#Creating X and y arrays, X w/o label and y with.\n",
    "for instance in allSample:\n",
    "    X.append(instance[:7])\n",
    "    y.append(instance[7])\n",
    "{}\n"
   ]
  },
  {
   "cell_type": "code",
   "execution_count": null,
   "id": "4204e110",
   "metadata": {},
   "outputs": [],
   "source": [
    "# Create train and test sets\n",
    "X_train, X_test, y_train, y_test = model_selection.train_test_split(X, y, test_size=0.3 , random_state=100)"
   ]
  },
  {
   "cell_type": "code",
   "execution_count": null,
   "id": "662d9418",
   "metadata": {},
   "outputs": [],
   "source": [
    "#Decision tree done with best splits and gini criteria\n",
    "clf = DecisionTreeClassifier(max_depth=3, max_features=3)\n",
    "clf = clf.fit(X_train, y_train)\n",
    "\n",
    "clfy_pred = clf.predict(X_test)\n",
    "accuracy = metrics.accuracy_score(y_test, clfy_pred)\n",
    "print(f'Accuracy: {accuracy}')"
   ]
  },
  {
   "cell_type": "code",
   "execution_count": null,
   "id": "a12cd2ab",
   "metadata": {},
   "outputs": [],
   "source": [
    "#Decision treerint RoC curve\n",
    "RocCurveDisplay.from_estimator(clf, X_test, y_test)"
   ]
  },
  {
   "cell_type": "code",
   "execution_count": null,
   "id": "61877d6d",
   "metadata": {},
   "outputs": [],
   "source": [
    "#Generates the image of the decision tree\n",
    "print(clf.n_features_in_)\n",
    "print(clf.feature_importances_)\n",
    "tree.plot_tree(clf)"
   ]
  },
  {
   "cell_type": "code",
   "execution_count": null,
   "id": "4796ff75",
   "metadata": {},
   "outputs": [],
   "source": [
    "#Creating a Random Forest and getting the accuracy score\n",
    "rf = RandomForestClassifier(max_depth=3, max_features=3)\n",
    "rf.fit(X_train,y_train)\n",
    "rfy_pred = rf.predict(X_test)\n",
    "\n",
    "rfy_pred = rf.predict(X_test)\n",
    "rf_accuracy = metrics.accuracy_score(y_test, rfy_pred)\n",
    "print(f'Accuracy: {rf_accuracy}')"
   ]
  },
  {
   "cell_type": "code",
   "execution_count": null,
   "id": "a6e2bd80",
   "metadata": {},
   "outputs": [],
   "source": [
    "#Random Forest RoC curve\n",
    "RocCurveDisplay.from_estimator(rf, X_test, y_test)\n",
    "print(rf.n_features_in_)\n",
    "print(rf.feature_importances_)\n"
   ]
  },
  {
   "cell_type": "code",
   "execution_count": null,
   "metadata": {},
   "outputs": [],
   "source": [
    "tree.plot_tree(rf[0])"
   ]
  },
  {
   "cell_type": "code",
   "execution_count": null,
   "metadata": {},
   "outputs": [],
   "source": [
    "tree.plot_tree(rf[1])"
   ]
  },
  {
   "cell_type": "code",
   "execution_count": null,
   "metadata": {},
   "outputs": [],
   "source": [
    "tree.plot_tree(rf[99])"
   ]
  }
 ],
 "metadata": {
  "kernelspec": {
   "display_name": "base",
   "language": "python",
   "name": "python3"
  },
  "language_info": {
   "codemirror_mode": {
    "name": "ipython",
    "version": 3
   },
   "file_extension": ".py",
   "mimetype": "text/x-python",
   "name": "python",
   "nbconvert_exporter": "python",
   "pygments_lexer": "ipython3",
   "version": "3.12.7"
  }
 },
 "nbformat": 4,
 "nbformat_minor": 5
}
